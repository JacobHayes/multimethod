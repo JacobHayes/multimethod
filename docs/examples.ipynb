{
 "cells": [
  {
   "cell_type": "markdown",
   "metadata": {},
   "source": [
    "# Examples\n",
    "## mutlimethod\n",
    "Multimethods are a mapping of signatures (tuple of types) to functions.  They maintain an efficient dispatch tree, and cache the called signatures."
   ]
  },
  {
   "cell_type": "code",
   "execution_count": null,
   "metadata": {},
   "outputs": [],
   "source": [
    "import conf  # setup local path\n",
    "from multimethod import multimethod\n",
    "import operator\n",
    "\n",
    "classic_div = multimethod(operator.truediv)\n",
    "classic_div[int, int] = operator.floordiv\n",
    "classic_div"
   ]
  },
  {
   "cell_type": "code",
   "execution_count": null,
   "metadata": {},
   "outputs": [],
   "source": [
    "classic_div(3, 2)"
   ]
  },
  {
   "cell_type": "code",
   "execution_count": null,
   "metadata": {},
   "outputs": [],
   "source": [
    "classic_div(3.0, 2)"
   ]
  },
  {
   "cell_type": "code",
   "execution_count": null,
   "metadata": {},
   "outputs": [],
   "source": [
    "classic_div"
   ]
  },
  {
   "cell_type": "markdown",
   "metadata": {},
   "source": [
    "Multimethods introspect type annotations and use the name to find existing multimethods."
   ]
  },
  {
   "cell_type": "code",
   "execution_count": null,
   "metadata": {},
   "outputs": [],
   "source": [
    "import itertools\n",
    "from typing import Iterable, Sequence\n",
    "\n",
    "@multimethod\n",
    "def chunks(values: Iterable, size):\n",
    "    it = iter(values)\n",
    "    return iter(lambda: list(itertools.islice(it, size)), [])\n",
    "\n",
    "@multimethod\n",
    "def chunks(values: Sequence, size):\n",
    "    for index in range(0, len(values), size):\n",
    "        yield values[index:index + size]\n",
    "\n",
    "list(chunks(iter('abcde'), 3))"
   ]
  },
  {
   "cell_type": "code",
   "execution_count": null,
   "metadata": {},
   "outputs": [],
   "source": [
    "list(chunks('abcde', 3))"
   ]
  },
  {
   "cell_type": "markdown",
   "metadata": {},
   "source": [
    "Multimethods also have an explicit `register` method similar to `functools.singledispatch`."
   ]
  },
  {
   "cell_type": "code",
   "execution_count": null,
   "metadata": {},
   "outputs": [],
   "source": [
    "@multimethod\n",
    "def window(values, size=2):\n",
    "    its = itertools.tee(values, size)\n",
    "    return zip(*(itertools.islice(it, index, None) for index, it in enumerate(its)))\n",
    "\n",
    "@window.register\n",
    "def _(values: Sequence, size=2):\n",
    "    for index in range(len(values) - size + 1):\n",
    "        yield values[index:index + size]\n",
    "\n",
    "list(window(iter('abcde')))"
   ]
  },
  {
   "cell_type": "code",
   "execution_count": null,
   "metadata": {},
   "outputs": [],
   "source": [
    "list(window('abcde'))"
   ]
  },
  {
   "cell_type": "markdown",
   "metadata": {},
   "source": [
    "## overload\n",
    "Whereas multimethods require an `issubclass` relationship, overloads dispatch on any predicates."
   ]
  },
  {
   "cell_type": "code",
   "execution_count": null,
   "metadata": {},
   "outputs": [],
   "source": [
    "import asyncio\n",
    "import time\n",
    "from concurrent import futures\n",
    "from multimethod import overload\n",
    "\n",
    "@overload\n",
    "def wait(timeout, func, *args):\n",
    "    return futures.ThreadPoolExecutor().submit(func, *args).result(timeout)\n",
    "\n",
    "@overload\n",
    "async def wait(timeout, func: asyncio.iscoroutinefunction, *args):\n",
    "    return await asyncio.wait_for(func(*args), timeout)\n",
    "\n",
    "wait(0.5, time.sleep, 0.01)"
   ]
  },
  {
   "cell_type": "code",
   "execution_count": null,
   "metadata": {},
   "outputs": [],
   "source": [
    "wait(0.5, asyncio.sleep, 0.01)"
   ]
  }
 ],
 "metadata": {
  "celltoolbar": "Edit Metadata",
  "kernelspec": {
   "display_name": "Python 3",
   "language": "python",
   "name": "python3"
  },
  "language_info": {
   "codemirror_mode": {
    "name": "ipython",
    "version": 3
   },
   "file_extension": ".py",
   "mimetype": "text/x-python",
   "name": "python",
   "nbconvert_exporter": "python",
   "pygments_lexer": "ipython3",
   "version": "3.7.4"
  }
 },
 "nbformat": 4,
 "nbformat_minor": 2
}
